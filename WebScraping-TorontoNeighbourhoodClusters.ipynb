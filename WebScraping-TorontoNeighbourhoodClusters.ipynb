{
    "cells": [
        {
            "metadata": {
                "collapsed": true
            },
            "cell_type": "markdown",
            "source": "Data Science Capstone Project Assignment - Web Page Scraping "
        },
        {
            "metadata": {},
            "cell_type": "code",
            "source": "import requests\nimport pandas as pd\nfrom bs4 import BeautifulSoup\n\n# Store the required Postcode web page url \nwebsite_url = requests.get('https://en.wikipedia.org/wiki/List_of_postal_codes_of_Canada:_M').text\n\n# Use the BeautifulSoup package for processing the web page - set the returned data to be in an lxml format\nsoup = BeautifulSoup(website_url,'lxml')\n#print(soup.prettify())\n\n# Scrape the Postcode table on the web page\nweb_table = soup.find('table',{'class':'wikitable sortable'})\n\n# Load the contents of the Postcode table into a text array, use the strip method to remove unwanted characters from the dataset \ntable_rows = []\n# Loop through the contents of table based on tr and td tags\nfor table_row in web_table.find_all('tr'):\n    table_data = table_row.find_all('td')\n    # Convert each table row element to text, strip out unwanted characters and store in a text array\n    table_rows.append([i.text.strip() for i in table_data]) \n    \n# Isolate the Postcode table column headers (th - table header) and use the strip method to remove unwanted characters from the dataset\ntable_header = web_table.find_all('th')\n# Convert each header list element to text and store in table_header \ntable_header = [c.text for c in table_header]\n# Loop through each of the characters in the string and use the strip method to remove unwanted characters such as '\\n' new line escape codes\ntable_header = [i.strip() for i in table_header]\n#print(table_header)\n\n# Load the table rows and column headers into a dataframe\npdf = pd.DataFrame(data = table_rows, columns = table_header)\n#pdf.head()\n\n# Remove the empty top row from the dataframe and reset the index\npdf = pdf.drop([0])\npdf = pdf.reset_index(drop = True)\n#pdf.head()\n\n# Only include Boroughs in the dataframe that are assigned a Postcode - Ignore cells with a Borough that are 'Not assigned'\npdf = pdf[pdf.Borough != 'Not assigned']\n\n# Sort the values in the dataframe\npdf.sort_values(by = ['Postcode', 'Borough', 'Neighbourhood'])\n\n# For a given Postcode that has more than one assigned Neighbourhood, join the cells to form just one Postcode cell separated by a comma\npdf = pdf.groupby(['Postcode','Borough'])['Neighbourhood'].apply(', '.join).reset_index()\n\n# If a cell has a Borough but 'Not assigned' to a Neighborhood, then make the Neighborhood the same as the Borough\npdf.loc[pdf.Neighbourhood == 'Not assigned', 'Neighbourhood'] = pdf.Borough\n#pdf\n\npdf.shape",
            "execution_count": 27,
            "outputs": [
                {
                    "output_type": "execute_result",
                    "execution_count": 27,
                    "data": {
                        "text/plain": "(103, 3)"
                    },
                    "metadata": {}
                }
            ]
        },
        {
            "metadata": {},
            "cell_type": "markdown",
            "source": "Add Geospatial latitude and longitude data for a given postcode to the Postcode dataframe"
        },
        {
            "metadata": {},
            "cell_type": "code",
            "source": "# Locate the required geospatial data for a given postcode\ngeo_link = 'http://cocl.us/Geospatial_data'\ngeo_data = requests.get(geo_link)\n\n# Strip out unwanted characters from the geospatial data and form into rows\ngeo_data = geo_data.text.strip('\\n')\ngeo_data = geo_data.split('\\r')\n\n# Loop through each row in the geospatial data and strip out 'new line' esacpe codes\ngeo_data = [c.strip('\\n') for c in geo_data]\n\n# Split each geospatial data row into columns\ngeo_data = [i.split(',') for i in geo_data]\n\n# Construct the Coordinates dataframe from the prepared geospatial data set\ncdf = pd.DataFrame(data = geo_data, columns = geo_data[0])\n\n# From the Coordinates dataframe, remove the top row, column headers, from the full data set and reset the index\ncdf = cdf.drop([0])\ncdf = cdf.reset_index(drop = True)\n\n# Append Latitude and Longitude columns to the Postcode dataframe and initiate with 'null' data\npdf.insert(3, 'Latitude', '')\npdf.insert(4, 'Longitude', '')\n\n# Where Postcode and Coordinate dataframe postcodes match, update the Postcode dataframe Latitude and Longitude values\n# Loop through all the postcodes in the Postcode dataframe\nfor i in pdf.Postcode:\n    # Loop through all the postcodes in the Coordinates dataframe\n    for c in cdf['Postal Code']:\n        # Identify matching postcode values in the Postcode and Coordinates dataframes\n        if i == c:\n            # Based on matching postcode values, update the Postcode dataframe with the associated Latitude and Longitude values\n            pdf.loc[pdf['Postcode'] == i, 'Latitude'] = cdf.loc[cdf['Postal Code'] == c, 'Latitude']\n            pdf.loc[pdf['Postcode'] == i, 'Longitude'] = cdf.loc[cdf['Postal Code'] == c, 'Longitude']\n            \npdf.head()       ",
            "execution_count": 28,
            "outputs": [
                {
                    "output_type": "error",
                    "ename": "KeyError",
                    "evalue": "'Postal Code'",
                    "traceback": [
                        "\u001b[0;31m---------------------------------------------------------------------------\u001b[0m",
                        "\u001b[0;31mKeyError\u001b[0m                                  Traceback (most recent call last)",
                        "\u001b[0;32m/opt/conda/envs/Python36/lib/python3.6/site-packages/pandas/core/indexes/base.py\u001b[0m in \u001b[0;36mget_loc\u001b[0;34m(self, key, method, tolerance)\u001b[0m\n\u001b[1;32m   2655\u001b[0m             \u001b[0;32mtry\u001b[0m\u001b[0;34m:\u001b[0m\u001b[0;34m\u001b[0m\u001b[0;34m\u001b[0m\u001b[0m\n\u001b[0;32m-> 2656\u001b[0;31m                 \u001b[0;32mreturn\u001b[0m \u001b[0mself\u001b[0m\u001b[0;34m.\u001b[0m\u001b[0m_engine\u001b[0m\u001b[0;34m.\u001b[0m\u001b[0mget_loc\u001b[0m\u001b[0;34m(\u001b[0m\u001b[0mkey\u001b[0m\u001b[0;34m)\u001b[0m\u001b[0;34m\u001b[0m\u001b[0;34m\u001b[0m\u001b[0m\n\u001b[0m\u001b[1;32m   2657\u001b[0m             \u001b[0;32mexcept\u001b[0m \u001b[0mKeyError\u001b[0m\u001b[0;34m:\u001b[0m\u001b[0;34m\u001b[0m\u001b[0;34m\u001b[0m\u001b[0m\n",
                        "\u001b[0;32mpandas/_libs/index.pyx\u001b[0m in \u001b[0;36mpandas._libs.index.IndexEngine.get_loc\u001b[0;34m()\u001b[0m\n",
                        "\u001b[0;32mpandas/_libs/index.pyx\u001b[0m in \u001b[0;36mpandas._libs.index.IndexEngine.get_loc\u001b[0;34m()\u001b[0m\n",
                        "\u001b[0;32mpandas/_libs/hashtable_class_helper.pxi\u001b[0m in \u001b[0;36mpandas._libs.hashtable.PyObjectHashTable.get_item\u001b[0;34m()\u001b[0m\n",
                        "\u001b[0;32mpandas/_libs/hashtable_class_helper.pxi\u001b[0m in \u001b[0;36mpandas._libs.hashtable.PyObjectHashTable.get_item\u001b[0;34m()\u001b[0m\n",
                        "\u001b[0;31mKeyError\u001b[0m: 'Postal Code'",
                        "\nDuring handling of the above exception, another exception occurred:\n",
                        "\u001b[0;31mKeyError\u001b[0m                                  Traceback (most recent call last)",
                        "\u001b[0;32m<ipython-input-28-38a2971a82a3>\u001b[0m in \u001b[0;36m<module>\u001b[0;34m\u001b[0m\n\u001b[1;32m     28\u001b[0m \u001b[0;32mfor\u001b[0m \u001b[0mi\u001b[0m \u001b[0;32min\u001b[0m \u001b[0mpdf\u001b[0m\u001b[0;34m.\u001b[0m\u001b[0mPostcode\u001b[0m\u001b[0;34m:\u001b[0m\u001b[0;34m\u001b[0m\u001b[0;34m\u001b[0m\u001b[0m\n\u001b[1;32m     29\u001b[0m     \u001b[0;31m# Loop through all the postcodes in the Coordinates dataframe\u001b[0m\u001b[0;34m\u001b[0m\u001b[0;34m\u001b[0m\u001b[0;34m\u001b[0m\u001b[0m\n\u001b[0;32m---> 30\u001b[0;31m     \u001b[0;32mfor\u001b[0m \u001b[0mc\u001b[0m \u001b[0;32min\u001b[0m \u001b[0mcdf\u001b[0m\u001b[0;34m[\u001b[0m\u001b[0;34m'Postal Code'\u001b[0m\u001b[0;34m]\u001b[0m\u001b[0;34m:\u001b[0m\u001b[0;34m\u001b[0m\u001b[0;34m\u001b[0m\u001b[0m\n\u001b[0m\u001b[1;32m     31\u001b[0m         \u001b[0;31m# Identify matching postcode values in the Postcode and Coordinates dataframes\u001b[0m\u001b[0;34m\u001b[0m\u001b[0;34m\u001b[0m\u001b[0;34m\u001b[0m\u001b[0m\n\u001b[1;32m     32\u001b[0m         \u001b[0;32mif\u001b[0m \u001b[0mi\u001b[0m \u001b[0;34m==\u001b[0m \u001b[0mc\u001b[0m\u001b[0;34m:\u001b[0m\u001b[0;34m\u001b[0m\u001b[0;34m\u001b[0m\u001b[0m\n",
                        "\u001b[0;32m/opt/conda/envs/Python36/lib/python3.6/site-packages/pandas/core/frame.py\u001b[0m in \u001b[0;36m__getitem__\u001b[0;34m(self, key)\u001b[0m\n\u001b[1;32m   2925\u001b[0m             \u001b[0;32mif\u001b[0m \u001b[0mself\u001b[0m\u001b[0;34m.\u001b[0m\u001b[0mcolumns\u001b[0m\u001b[0;34m.\u001b[0m\u001b[0mnlevels\u001b[0m \u001b[0;34m>\u001b[0m \u001b[0;36m1\u001b[0m\u001b[0;34m:\u001b[0m\u001b[0;34m\u001b[0m\u001b[0;34m\u001b[0m\u001b[0m\n\u001b[1;32m   2926\u001b[0m                 \u001b[0;32mreturn\u001b[0m \u001b[0mself\u001b[0m\u001b[0;34m.\u001b[0m\u001b[0m_getitem_multilevel\u001b[0m\u001b[0;34m(\u001b[0m\u001b[0mkey\u001b[0m\u001b[0;34m)\u001b[0m\u001b[0;34m\u001b[0m\u001b[0;34m\u001b[0m\u001b[0m\n\u001b[0;32m-> 2927\u001b[0;31m             \u001b[0mindexer\u001b[0m \u001b[0;34m=\u001b[0m \u001b[0mself\u001b[0m\u001b[0;34m.\u001b[0m\u001b[0mcolumns\u001b[0m\u001b[0;34m.\u001b[0m\u001b[0mget_loc\u001b[0m\u001b[0;34m(\u001b[0m\u001b[0mkey\u001b[0m\u001b[0;34m)\u001b[0m\u001b[0;34m\u001b[0m\u001b[0;34m\u001b[0m\u001b[0m\n\u001b[0m\u001b[1;32m   2928\u001b[0m             \u001b[0;32mif\u001b[0m \u001b[0mis_integer\u001b[0m\u001b[0;34m(\u001b[0m\u001b[0mindexer\u001b[0m\u001b[0;34m)\u001b[0m\u001b[0;34m:\u001b[0m\u001b[0;34m\u001b[0m\u001b[0;34m\u001b[0m\u001b[0m\n\u001b[1;32m   2929\u001b[0m                 \u001b[0mindexer\u001b[0m \u001b[0;34m=\u001b[0m \u001b[0;34m[\u001b[0m\u001b[0mindexer\u001b[0m\u001b[0;34m]\u001b[0m\u001b[0;34m\u001b[0m\u001b[0;34m\u001b[0m\u001b[0m\n",
                        "\u001b[0;32m/opt/conda/envs/Python36/lib/python3.6/site-packages/pandas/core/indexes/base.py\u001b[0m in \u001b[0;36mget_loc\u001b[0;34m(self, key, method, tolerance)\u001b[0m\n\u001b[1;32m   2656\u001b[0m                 \u001b[0;32mreturn\u001b[0m \u001b[0mself\u001b[0m\u001b[0;34m.\u001b[0m\u001b[0m_engine\u001b[0m\u001b[0;34m.\u001b[0m\u001b[0mget_loc\u001b[0m\u001b[0;34m(\u001b[0m\u001b[0mkey\u001b[0m\u001b[0;34m)\u001b[0m\u001b[0;34m\u001b[0m\u001b[0;34m\u001b[0m\u001b[0m\n\u001b[1;32m   2657\u001b[0m             \u001b[0;32mexcept\u001b[0m \u001b[0mKeyError\u001b[0m\u001b[0;34m:\u001b[0m\u001b[0;34m\u001b[0m\u001b[0;34m\u001b[0m\u001b[0m\n\u001b[0;32m-> 2658\u001b[0;31m                 \u001b[0;32mreturn\u001b[0m \u001b[0mself\u001b[0m\u001b[0;34m.\u001b[0m\u001b[0m_engine\u001b[0m\u001b[0;34m.\u001b[0m\u001b[0mget_loc\u001b[0m\u001b[0;34m(\u001b[0m\u001b[0mself\u001b[0m\u001b[0;34m.\u001b[0m\u001b[0m_maybe_cast_indexer\u001b[0m\u001b[0;34m(\u001b[0m\u001b[0mkey\u001b[0m\u001b[0;34m)\u001b[0m\u001b[0;34m)\u001b[0m\u001b[0;34m\u001b[0m\u001b[0;34m\u001b[0m\u001b[0m\n\u001b[0m\u001b[1;32m   2659\u001b[0m         \u001b[0mindexer\u001b[0m \u001b[0;34m=\u001b[0m \u001b[0mself\u001b[0m\u001b[0;34m.\u001b[0m\u001b[0mget_indexer\u001b[0m\u001b[0;34m(\u001b[0m\u001b[0;34m[\u001b[0m\u001b[0mkey\u001b[0m\u001b[0;34m]\u001b[0m\u001b[0;34m,\u001b[0m \u001b[0mmethod\u001b[0m\u001b[0;34m=\u001b[0m\u001b[0mmethod\u001b[0m\u001b[0;34m,\u001b[0m \u001b[0mtolerance\u001b[0m\u001b[0;34m=\u001b[0m\u001b[0mtolerance\u001b[0m\u001b[0;34m)\u001b[0m\u001b[0;34m\u001b[0m\u001b[0;34m\u001b[0m\u001b[0m\n\u001b[1;32m   2660\u001b[0m         \u001b[0;32mif\u001b[0m \u001b[0mindexer\u001b[0m\u001b[0;34m.\u001b[0m\u001b[0mndim\u001b[0m \u001b[0;34m>\u001b[0m \u001b[0;36m1\u001b[0m \u001b[0;32mor\u001b[0m \u001b[0mindexer\u001b[0m\u001b[0;34m.\u001b[0m\u001b[0msize\u001b[0m \u001b[0;34m>\u001b[0m \u001b[0;36m1\u001b[0m\u001b[0;34m:\u001b[0m\u001b[0;34m\u001b[0m\u001b[0;34m\u001b[0m\u001b[0m\n",
                        "\u001b[0;32mpandas/_libs/index.pyx\u001b[0m in \u001b[0;36mpandas._libs.index.IndexEngine.get_loc\u001b[0;34m()\u001b[0m\n",
                        "\u001b[0;32mpandas/_libs/index.pyx\u001b[0m in \u001b[0;36mpandas._libs.index.IndexEngine.get_loc\u001b[0;34m()\u001b[0m\n",
                        "\u001b[0;32mpandas/_libs/hashtable_class_helper.pxi\u001b[0m in \u001b[0;36mpandas._libs.hashtable.PyObjectHashTable.get_item\u001b[0;34m()\u001b[0m\n",
                        "\u001b[0;32mpandas/_libs/hashtable_class_helper.pxi\u001b[0m in \u001b[0;36mpandas._libs.hashtable.PyObjectHashTable.get_item\u001b[0;34m()\u001b[0m\n",
                        "\u001b[0;31mKeyError\u001b[0m: 'Postal Code'"
                    ]
                }
            ]
        },
        {
            "metadata": {},
            "cell_type": "markdown",
            "source": "Display the Toronto postcode and  geospatial data in a cluster map"
        },
        {
            "metadata": {},
            "cell_type": "code",
            "source": "import numpy as np\nimport pandas as pd\npd.set_option('display.max_columns', None)\npd.set_option('display.max_rows', None)\nimport json \n\n# Return Latitude and Longitude coordinates for a given addresses \nfrom geopy.geocoders import Nominatim \n\n# JSON to Pandas DadaFrame \nfrom pandas.io.json import json_normalize\n# Matplotlib and associated plotting modules\nimport matplotlib.cm as cm\nimport matplotlib.colors as colors\n\n# Import k-means from clustering stage\nfrom sklearn.cluster import KMeans\n!pip -q install folium\nimport folium # map rendering library\n\naddress = 'Toronto, Ontario'\ngeolocator = Nominatim()\nlocation = geolocator.geocode(address)\nlatitude = location.latitude\nlongitude = location.longitude\nprint('The geograpical coordinate of Toronto City are {}, {}.'.format(latitude, longitude))\n\n\n# Create a map of Toronto city using the Latitude and Longitude information\nToronto_map = folium.Map(location=[latitude, longitude], zoom_start=10)\n\n# Using the location information from geospat file, add markers on the map for each neighbourhood\n    \nfor lat, lng, borough, neighborhood in zip(pdf['Latitude'], pdf['Longitude'], pdf['Borough'], pdf['Neighbourhood']):\n    label = '{}, {}'.format(neighborhood, borough) # This will label the markers by neighborhood, borough name\\\n    label = folium.Popup(label, parse_html=True)\n    folium.CircleMarker(\n    [lat, lng],\n    radius=5,\n    popup=label,\n    color='blue',\n    fill=True,\n    fill_color='#3186cc',\n    fill_opacity=0.7,\n    ).add_to(Toronto_map)\n   \nToronto_map\n",
            "execution_count": null,
            "outputs": []
        },
        {
            "metadata": {},
            "cell_type": "markdown",
            "source": "Cluster Neighbourhoods of the Downtown Toronto Borough"
        },
        {
            "metadata": {},
            "cell_type": "code",
            "source": "# Build the Toronto DataFrame tdf based on the Downtown Toronto Borough and cluster the associated Neighbourhoods around it\n\ntdf = pdf[pdf['Borough'].str.contains('Toronto')].reset_index(drop = True)\n\naddress = 'Downtown Toronto, TO'\n\ngeolocator = Nominatim()\nlocation = geolocator.geocode(address)\nlatitude = location.latitude\nlongitude = location.longitude\n\n#print('The geograpical coordinate of Downtown Toronto are {}, {}.'.format(latitude, longitude)) \n#print(*zip(tdf['Latitude'], tdf['Longitude'], tdf['Neighbourhood']))\n\n# Map of Downtown Toronto and its surrounding Neighborhoods\nmap_dt = folium.Map(location=[latitude, longitude], zoom_start=11)\n  \n# Downtown Toronto as Red on the map\nfolium.CircleMarker([latitude, longitude], radius=10, popup=label, color='Red', fill=True, fill_color='Red', fill_opacity=0.9,).add_to(map_dt)\n\n# Neighbourhoods as Blue\nfor lat, lng, label in zip(tdf['Latitude'], tdf['Longitude'], tdf['Neighbourhood']):\n    label = folium.Popup(label, parse_html=True)\n    folium.CircleMarker(\n            [lat, lng],\n            radius=5,\n            popup=label,\n            color='blue',\n            fill=True,\n            fill_color='#3186cc',\n            fill_opacity=0.7,\n            ).add_to(map_dt)\n    \nmap_dt",
            "execution_count": null,
            "outputs": []
        },
        {
            "metadata": {},
            "cell_type": "markdown",
            "source": "Venues from FourSquare API"
        },
        {
            "metadata": {},
            "cell_type": "code",
            "source": "# Based on the FourSquare API lab create a function that returns Downtown Toronto nearby venues within a 500m radius of the \n# associated Neighbourhood and create a DataFrame of the venues returned by the function\n\nCLIENT_ID = '$$$$'\nCLIENT_SECRET = '$$$$'\nVERSION = '20180901' # Foursquare API version\n\nprint('Your credentails:')\nprint('CLIENT_ID: ' + CLIENT_ID)\nprint('CLIENT_SECRET:' + CLIENT_SECRET)\n\ndef NearbyVenues(names, latitudes, longitudes, radius=500):\n    venues_list=[]\n    for name, lat, lng in zip(names, latitudes, longitudes):\n        print(name)\n\n        # Build the API request URL\n        url = 'https://api.foursquare.com/v2/venues/explore?&client_id={}&client_secret={}&v={}&ll={},{}&radius={}&limit={}'.format(\n            CLIENT_ID,\n            CLIENT_SECRET,\n            VERSION,\n            lat,\n            lng,\n            radius,\n            LIMIT)\n\n        # Build the GET request\n        results = requests.get(url).json()[\"response\"]['groups'][0]['items']\n\n        # return only relevant information for each nearby venue\n        venues_list.append([(\n            name,\n            lat,\n            lng,\n            v['venue']['name'],\n            v['venue']['location']['lat'],\n            v['venue']['location']['lng'],\n            v['venue']['categories'][0]['name']) for v in results])\n\n    nearby_venues = pd.DataFrame([item for venue_list in venues_list for item in venue_list])\n    nearby_venues.columns = ['Neighbourhood',\n                            'Neighbourhood Latitude',\n                            'Neighbourhood Longitude',\n                            'Venue',\n                            'Venue Latitude',\n                            'Venue Longitude',\n                            'Venue Category']\n   \nreturn(nearby_venues)",
            "execution_count": null,
            "outputs": []
        },
        {
            "metadata": {},
            "cell_type": "markdown",
            "source": "Clustering the Toronto Neighbourhoods"
        },
        {
            "metadata": {},
            "cell_type": "code",
            "source": "# Set the number of clusters\nk = 5\ntorronto_grouped_clustering = tdf.drop('Neighbourhood', 1)\n\n# Apply k-means clustering\nkmeans = KMeans(n_clusters=k, random_state=0).fit(torronto_grouped_clustering)\n\n# Check cluster labels generated for each row in the Dataframe\nkmeans.labels_[0:38]\n    \n# Merge all the required data together including the cluster labels, neighborhoods and top 10 venues in each neighborhood and venue name\ntorronto_merged = tdf\n          \n# Apply cluster labels\ntorronto_merged['Cluster Labels'] = kmeans.labels_\n\n# merge toronto_grouped with toronto_data to add latitude/longitude for each neighborhood\ntorronto_merged = torronto_merged.join(neighborhoods_venues_sorted.set_index('Neighbourhood'), on='Neighbourhood')\ntorronto_merged # check the last columns!\n\n# Visualize the clusters\nmap_clusters = folium.Map(location=[latitude, longitude], zoom_start=11)\n\n# Apply the cluster colours\nx = np.arange(k)\nys = [i+x+(i*x)**2 for i in range(k)]\ncolors_array = cm.rainbow(np.linspace(0, 1, len(ys)))\nrainbow = [colors.rgb2hex(i) for i in colors_array]\n\n# add markers to the map\nmarkers_colors = []\nfor lat, lon, poi, cluster in zip(torronto_merged['Latitude'], torronto_merged['Longitude'], torronto_merged['Neighbourhood'], torronto_merged['Cluster Labels']):\n    label = folium.Popup(str(poi) + ' Cluster ' + str(cluster), parse_html=True)\n    folium.CircleMarker(\n        [lat, lon],\n        radius=5,\n        popup=label,\n        color=rainbow[cluster-1],\n        fill=True,\n        fill_color=rainbow[cluster-1],\n        fill_opacity=0.7).add_to(map_clusters)\n\nmap_clusters",
            "execution_count": null,
            "outputs": []
        }
    ],
    "metadata": {
        "kernelspec": {
            "name": "python3",
            "display_name": "Python 3.6",
            "language": "python"
        },
        "language_info": {
            "name": "python",
            "version": "3.6.8",
            "mimetype": "text/x-python",
            "codemirror_mode": {
                "name": "ipython",
                "version": 3
            },
            "pygments_lexer": "ipython3",
            "nbconvert_exporter": "python",
            "file_extension": ".py"
        }
    },
    "nbformat": 4,
    "nbformat_minor": 1
}
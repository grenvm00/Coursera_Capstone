{
    "cells": [
        {
            "cell_type": "markdown",
            "metadata": {},
            "source": "Data Science Capstone Project Assignment - Web Page Scraping Toronto Postcode, Borough and Neighborhood data"
        },
        {
            "cell_type": "code",
            "execution_count": 1,
            "metadata": {},
            "outputs": [
                {
                    "name": "stderr",
                    "output_type": "stream",
                    "text": "/opt/conda/envs/Python36/lib/python3.6/site-packages/ipykernel/__main__.py:44: UserWarning: Pandas doesn't allow columns to be created via a new attribute name - see https://pandas.pydata.org/pandas-docs/stable/indexing.html#attribute-access\n"
                },
                {
                    "data": {
                        "text/plain": "(103, 3)"
                    },
                    "execution_count": 1,
                    "metadata": {},
                    "output_type": "execute_result"
                }
            ],
            "source": "import requests\nimport pandas as pd\nfrom bs4 import BeautifulSoup\n\n# Store the required Postcode web page url \nwebsite_url = requests.get('https://en.wikipedia.org/wiki/List_of_postal_codes_of_Canada:_M').text\n\n# Use the BeautifulSoup package for processing the web page - set the returned data to be in an lxml format\nsoup = BeautifulSoup(website_url,'lxml')\n#print(soup.prettify())\n\n# Scrape the Postcode table on the web page\nweb_table = soup.find('table',{'class':'wikitable sortable'})\n\n# Load the contents of the Postcode table into a text array, use the strip method to remove unwanted characters from the dataset \ntable_rows = []\n# Loop through the contents of table based on tr and td tags\nfor table_row in web_table.find_all('tr'):\n    table_data = table_row.find_all('td')\n    # Convert each table row element to text, strip out unwanted characters and store in a text array\n    table_rows.append([i.text.strip() for i in table_data]) \n    \n# Isolate the Postcode table column headers (th - table header) and use the strip method to remove unwanted characters from the dataset\ntable_header = web_table.find_all('th')\n# Convert each header list element to text and store in table_header \ntable_header = [c.text for c in table_header]\n# Loop through each of the characters in the string and use the strip method to remove unwanted characters such as '\\n' new line escape codes\ntable_header = [i.strip() for i in table_header]\n#print(table_header)\n\n# Load the table rows and column headers into a dataframe\npdf = pd.DataFrame(data = table_rows, columns = table_header)\n#pdf.head()\n\n# Remove the empty top row from the dataframe and reset the index\npdf = pdf.drop([0])\npdf = pdf.reset_index(drop = True)\n#pdf.head()\n\n# Only include Boroughs in the dataframe that are assigned a Postcode - Ignore cells with a Borough that are 'Not assigned'\npdf = pdf[pdf.Borough != 'Not assigned']\n\n# Sort the values in the dataframe\npdf.sort_values_by = ['Postcode', 'Borough', 'Neighborhood']\n\n# For a given Postcode that has more than one assigned Neighbourhood, join the cells to form just one Postcode cell separated by a comma\npdf = pdf.groupby(['Postcode','Borough'])['Neighborhood'].apply(', '.join).reset_index()\n\n# If a cell has a Borough but 'Not assigned' to a Neighborhood, then make the Neighborhood the same as the Borough\npdf.loc[pdf.Neighborhood == 'Not assigned', 'Neighborhood'] = pdf.Borough\npdf\n\npdf.shape"
        }
    ],
    "metadata": {
        "kernelspec": {
            "display_name": "Python 3.6",
            "language": "python",
            "name": "python3"
        },
        "language_info": {
            "codemirror_mode": {
                "name": "ipython",
                "version": 3
            },
            "file_extension": ".py",
            "mimetype": "text/x-python",
            "name": "python",
            "nbconvert_exporter": "python",
            "pygments_lexer": "ipython3",
            "version": "3.6.8"
        }
    },
    "nbformat": 4,
    "nbformat_minor": 1
}